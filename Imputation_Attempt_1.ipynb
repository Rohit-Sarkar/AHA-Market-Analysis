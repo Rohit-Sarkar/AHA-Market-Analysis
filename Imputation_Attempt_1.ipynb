{
 "cells": [
  {
   "cell_type": "markdown",
   "metadata": {},
   "source": [
    "## Trying to impute the values of Tapestry Life Description through Multinomial Regression, Descision Trees, Random Forests and AdaBoost"
   ]
  },
  {
   "cell_type": "code",
   "execution_count": 1,
   "metadata": {
    "collapsed": true
   },
   "outputs": [],
   "source": [
    "import numpy as np\n",
    "import pandas as pd"
   ]
  },
  {
   "cell_type": "code",
   "execution_count": 2,
   "metadata": {},
   "outputs": [
    {
     "data": {
      "text/plain": [
       "Index(['City', 'Company_Goal', 'Company_Name', 'Event_Month', 'Event_Date',\n",
       "       'Event_Year', 'Event_Year.1', 'Fundraising_Goal', 'Name', 'State1',\n",
       "       'Participant_Id', 'State', 'Street', 'Team_Average', 'Team_Captain',\n",
       "       'Team_Count', 'Team_Id', 'Team_Member_Goal', 'Team_Name',\n",
       "       'Team_Total_Gifts', 'Zip', 'Gifts_Count', 'Registration_Gift',\n",
       "       'Participant_Gifts', 'Personal_Gift', 'Total_Gifts', 'MATCH_CODE',\n",
       "       'TAP_LEVEL', 'TAP_DESC', 'TAP_LIFED', 'MEDAGE_CY', 'DIVINDX_CY',\n",
       "       'MEDHINC_CY', 'MEDDI_CY', 'MEDNW_CY'],\n",
       "      dtype='object')"
      ]
     },
     "execution_count": 2,
     "metadata": {},
     "output_type": "execute_result"
    }
   ],
   "source": [
    "# Importing the data\n",
    "train = pd.read_excel(\"D:/UTD_JSOM/Spring 2018/Practicum/Top Walker/Imputation/Train.xlsx\",header=0)\n",
    "train.columns"
   ]
  },
  {
   "cell_type": "code",
   "execution_count": 3,
   "metadata": {
    "scrolled": true
   },
   "outputs": [
    {
     "data": {
      "text/plain": [
       "City                      0\n",
       "Company_Goal         175729\n",
       "Company_Name         175729\n",
       "Event_Month               0\n",
       "Event_Date                0\n",
       "Event_Year                0\n",
       "Event_Year.1              0\n",
       "Fundraising_Goal          0\n",
       "Name                      0\n",
       "State1                32924\n",
       "Participant_Id            0\n",
       "State                     0\n",
       "Street                    0\n",
       "Team_Average              0\n",
       "Team_Captain              0\n",
       "Team_Count                0\n",
       "Team_Id                   0\n",
       "Team_Member_Goal       2383\n",
       "Team_Name              2383\n",
       "Team_Total_Gifts          0\n",
       "Zip                       0\n",
       "Gifts_Count               0\n",
       "Registration_Gift         0\n",
       "Participant_Gifts         0\n",
       "Personal_Gift             0\n",
       "Total_Gifts               0\n",
       "MATCH_CODE                0\n",
       "TAP_LEVEL                 0\n",
       "TAP_DESC                  0\n",
       "TAP_LIFED                 0\n",
       "MEDAGE_CY                 0\n",
       "DIVINDX_CY                0\n",
       "MEDHINC_CY                0\n",
       "MEDDI_CY                  0\n",
       "MEDNW_CY                  0\n",
       "dtype: int64"
      ]
     },
     "execution_count": 3,
     "metadata": {},
     "output_type": "execute_result"
    }
   ],
   "source": [
    "# Finding the number of null values\n",
    "train.isnull().sum()"
   ]
  },
  {
   "cell_type": "code",
   "execution_count": 67,
   "metadata": {},
   "outputs": [],
   "source": [
    "# Extracting the important variable\n",
    "train_xy = train.iloc[:,[13,15,21,24,29]] \n",
    "\n",
    "#train_xy = train_xy[np.isfinite(train_xy['Team_Member_Goal'])]\n"
   ]
  },
  {
   "cell_type": "code",
   "execution_count": 69,
   "metadata": {
    "collapsed": true
   },
   "outputs": [],
   "source": [
    "# Splitting it into x and y \n",
    "train_x = train_xy.iloc[:,:4]\n",
    "train_y = train_xy.iloc[:,4]"
   ]
  },
  {
   "cell_type": "code",
   "execution_count": 72,
   "metadata": {},
   "outputs": [
    {
     "data": {
      "text/plain": [
       "(175878, 4)"
      ]
     },
     "execution_count": 72,
     "metadata": {},
     "output_type": "execute_result"
    }
   ],
   "source": [
    "train_x.shape"
   ]
  },
  {
   "cell_type": "code",
   "execution_count": 61,
   "metadata": {},
   "outputs": [
    {
     "data": {
      "text/plain": [
       "Index(['Team_Average', 'Team_Count', 'Gifts_Count', 'Personal_Gift'], dtype='object')"
      ]
     },
     "execution_count": 61,
     "metadata": {},
     "output_type": "execute_result"
    }
   ],
   "source": [
    "train_x.columns"
   ]
  },
  {
   "cell_type": "code",
   "execution_count": 62,
   "metadata": {},
   "outputs": [
    {
     "data": {
      "image/png": "[encoded data removed]",
      "text/plain": [
       "<matplotlib.figure.Figure at 0x24d8d562ba8>"
      ]
     },
     "metadata": {},
     "output_type": "display_data"
    }
   ],
   "source": [
    "# Finding the correlation between variables\n",
    "import seaborn as sns\n",
    "import matplotlib.pyplot as plt\n",
    "\n",
    "\n",
    "corr = train_x.corr()\n",
    "\n",
    "# Set up the matplotlib figure\n",
    "f, ax = plt.subplots(figsize=(11, 9))\n",
    "\n",
    "# Generate a custom diverging colormap\n",
    "cmap = sns.diverging_palette(220, 10, as_cmap=True)\n",
    "\n",
    "# Draw the heatmap with the correct aspect ratio\n",
    "sns.heatmap(corr, cmap=cmap, vmax=.3, center=0,\n",
    "            square=True, linewidths=.5, cbar_kws={\"shrink\": .5})\n",
    "plt.show()"
   ]
  },
  {
   "cell_type": "code",
   "execution_count": null,
   "metadata": {
    "collapsed": true
   },
   "outputs": [],
   "source": [
    "# Finding Correlation between variables and target variables\n",
    "from sklearn.preprocessing import LabelEncoder\n",
    "\n",
    "le = preprocessing.LabelEncoder()\n",
    "train_xy[\"Tapestry\"] = le.fit_transform(train_xy.iloc[:,8]) + 1\n",
    "corr = train_xy.corr()\n",
    "\n",
    "# Set up the matplotlib figure\n",
    "f, ax = plt.subplots(figsize=(11, 9))\n",
    "\n",
    "# Generate a custom diverging colormap\n",
    "cmap = sns.diverging_palette(220, 10, as_cmap=True)\n",
    "\n",
    "# Draw the heatmap with the correct aspect ratio\n",
    "sns.heatmap(corr, cmap=cmap, vmax=.3, center=0,\n",
    "            square=True, linewidths=.5, cbar_kws={\"shrink\": .5})\n",
    "plt.show()"
   ]
  },
  {
   "cell_type": "code",
   "execution_count": 17,
   "metadata": {},
   "outputs": [],
   "source": [
    "# Loading the test data\n",
    "test = pd.read_excel(\"D:/UTD_JSOM/Spring 2018/Practicum/Top Walker/Imputation/Test.xlsx\",header=0)\n",
    "test_x = test.iloc[:,[7,13,15,17,21,24]]\n",
    "test_x = test_x.dropna(axis=0)"
   ]
  },
  {
   "cell_type": "code",
   "execution_count": 77,
   "metadata": {},
   "outputs": [],
   "source": [
    "# Splitting into train and validation set \n",
    "from sklearn.model_selection import train_test_split\n",
    "train_x2, val_x2, train_y2, val_y2 = train_test_split(train_x,train_y,test_size=0.30,random_state=100)"
   ]
  },
  {
   "cell_type": "code",
   "execution_count": 82,
   "metadata": {},
   "outputs": [],
   "source": [
    "# Logistic Regression\n",
    "from sklearn.linear_model import LogisticRegression\n",
    "from sklearn.metrics import accuracy_score\n",
    "from sklearn.metrics import confusion_matrix\n",
    "\n",
    "softmax_reg = LogisticRegression(multi_class=\"multinomial\",solver=\"lbfgs\",C=10,n_jobs=-1)\n",
    "softmax_reg.fit(train_x2,train_y2)\n",
    "pred = softmax_reg.predict(val_x2)\n",
    "acc = accuracy_score(val_y2,pred)\n",
    "acc"
   ]
  },
  {
   "cell_type": "code",
   "execution_count": 84,
   "metadata": {},
   "outputs": [
    {
     "name": "stdout",
     "output_type": "stream",
     "text": [
      "The accuracy at depth  2 :  0.216264877568\n",
      "The accuracy at depth  3 :  0.217193541051\n",
      "The accuracy at depth  4 :  0.218539155485\n",
      "The accuracy at depth  5 :  0.219088772648\n",
      "The accuracy at depth  6 :  0.219676294443\n",
      "The accuracy at depth  7 :  0.220339625502\n",
      "The accuracy at depth  8 :  0.219373057388\n",
      "The accuracy at depth  9 :  0.218216966113\n"
     ]
    }
   ],
   "source": [
    "# Decision Tree Classification\n",
    "from sklearn.tree import DecisionTreeClassifier\n",
    "\n",
    "for i in np.arange(2,10,1):\n",
    "    tree_clf = DecisionTreeClassifier(max_depth=i)\n",
    "    tree_clf.fit(train_x2,train_y2)\n",
    "    pred = tree_clf.predict(val_x2)\n",
    "    acc = accuracy_score(val_y2,pred)\n",
    "    print(\"The accuracy at depth \",i,\": \",acc)"
   ]
  },
  {
   "cell_type": "code",
   "execution_count": 54,
   "metadata": {},
   "outputs": [
    {
     "name": "stdout",
     "output_type": "stream",
     "text": [
      "The accuracy at depth  2 :  0.214144363965\n",
      "The accuracy at depth  3 :  0.219235720187\n",
      "The accuracy at depth  4 :  0.219792887471\n",
      "The accuracy at depth  5 :  0.218851466887\n",
      "The accuracy at depth  6 :  0.22144517666\n",
      "The accuracy at depth  7 :  0.221080136026\n",
      "The accuracy at depth  8 :  0.221618090645\n",
      "The accuracy at depth  9 :  0.222194470595\n"
     ]
    }
   ],
   "source": [
    "# Random Forest Classification\n",
    "from sklearn.ensemble import RandomForestClassifier \n",
    "from sklearn.metrics import accuracy_score\n",
    "from sklearn.metrics import confusion_matrix\n",
    "\n",
    "for i in np.arange(2,10,1):\n",
    "    ran_clf = RandomForestClassifier(max_depth=i)\n",
    "    ran_clf.fit(train_x2,train_y2)\n",
    "    pred = ran_clf.predict(val_x2)\n",
    "    acc = accuracy_score(val_y2,pred)\n",
    "    print(\"The accuracy at depth \",i,\": \",acc)"
   ]
  },
  {
   "cell_type": "code",
   "execution_count": 55,
   "metadata": {},
   "outputs": [
    {
     "name": "stdout",
     "output_type": "stream",
     "text": [
      "The accuracy at depth :  0.22167572864\n"
     ]
    }
   ],
   "source": [
    "# AdaBoost\n",
    "from sklearn.ensemble import AdaBoostClassifier\n",
    "\n",
    "ada_clf = AdaBoostClassifier(\n",
    "            DecisionTreeClassifier(max_depth=2),n_estimators=50,\n",
    "            algorithm=\"SAMME.R\",learning_rate=0.5)\n",
    "ada_clf.fit(train_x2,train_y2)\n",
    "pred = ada_clf.predict(val_x2)\n",
    "\n",
    "acc = accuracy_score(val_y2,pred)\n",
    "print(\"The accuracy at depth : \",acc)"
   ]
  },
  {
   "cell_type": "markdown",
   "metadata": {},
   "source": [
    "### Since the accuracy is very less, we assume that more number of relevant variables are required for imputation and decided to remove the rows with null tapestry value"
   ]
  }
 ],
 "metadata": {
  "kernelspec": {
   "display_name": "Python 3",
   "language": "python",
   "name": "python3"
  },
  "language_info": {
   "codemirror_mode": {
    "name": "ipython",
    "version": 3
   },
   "file_extension": ".py",
   "mimetype": "text/x-python",
   "name": "python",
   "nbconvert_exporter": "python",
   "pygments_lexer": "ipython3",
   "version": "3.6.2"
  }
 },
 "nbformat": 4,
 "nbformat_minor": 2
}
