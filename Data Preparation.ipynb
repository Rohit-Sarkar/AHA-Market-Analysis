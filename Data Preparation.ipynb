{
 "cells": [
  {
   "cell_type": "markdown",
   "metadata": {},
   "source": [
    "#### Preparing data for modelling clustering on Population, Number of Hospitals and Number of Companies. "
   ]
  },
  {
   "cell_type": "code",
   "execution_count": 1,
   "metadata": {
    "collapsed": true
   },
   "outputs": [],
   "source": [
    "import numpy as np\n",
    "import pandas as pd"
   ]
  },
  {
   "cell_type": "code",
   "execution_count": 19,
   "metadata": {},
   "outputs": [],
   "source": [
    "company = pd.ExcelFile(\"D:/UTD_JSOM/Spring 2018/Practicum/Market Analysis/donations/donations_company_2015.xlsx\")"
   ]
  },
  {
   "cell_type": "code",
   "execution_count": 20,
   "metadata": {},
   "outputs": [
    {
     "data": {
      "text/plain": [
       "['donations', 'company']"
      ]
     },
     "execution_count": 20,
     "metadata": {},
     "output_type": "execute_result"
    }
   ],
   "source": [
    "company.sheet_names"
   ]
  },
  {
   "cell_type": "code",
   "execution_count": 21,
   "metadata": {
    "collapsed": true
   },
   "outputs": [],
   "source": [
    "comp = pd.read_excel(\"D:/UTD_JSOM/Spring 2018/Practicum/Market Analysis/donations/donations_company_2015.xlsx\",\n",
    "                    sheetname='company')"
   ]
  },
  {
   "cell_type": "code",
   "execution_count": 23,
   "metadata": {},
   "outputs": [
    {
     "data": {
      "text/plain": [
       "Index(['Uni_code', 'FIPS STATE   CODE', 'STATE DESCRIPTION',\n",
       "       'FIPS COUNTY   CODE ', 'COUNTY DESCRIPTION',\n",
       "       'ENTERPRISE EMPLOYMENT SIZE', 'NUMBER OF FIRMS',\n",
       "       'NUMBER OF ESTABLISHMENTS', 'EMPLOYMENT', 'EMPLOYMENT RANGE FLAG',\n",
       "       'EMPLOYMENT NOISE FLAG', 'ANNUAL PAYROLL ($1,000)',\n",
       "       'ANNUAL PAYROLL NOISE FLAG'],\n",
       "      dtype='object')"
      ]
     },
     "execution_count": 23,
     "metadata": {},
     "output_type": "execute_result"
    }
   ],
   "source": [
    "comp.columns"
   ]
  },
  {
   "cell_type": "code",
   "execution_count": 25,
   "metadata": {},
   "outputs": [
    {
     "data": {
      "text/plain": [
       "01:  Total      3192\n",
       "02:  <20        3179\n",
       "03:  20-99      3172\n",
       "05:  500+       3166\n",
       "04:  100-499    3145\n",
       "Name: ENTERPRISE EMPLOYMENT SIZE, dtype: int64"
      ]
     },
     "execution_count": 25,
     "metadata": {},
     "output_type": "execute_result"
    }
   ],
   "source": [
    "comp['ENTERPRISE EMPLOYMENT SIZE'].value_counts()"
   ]
  },
  {
   "cell_type": "code",
   "execution_count": 27,
   "metadata": {
    "collapsed": true
   },
   "outputs": [],
   "source": [
    "comp.rename(columns={'STATE DESCRIPTION':'State','COUNTY DESCRIPTION':'County',\n",
    "                    'ENTERPRISE EMPLOYMENT SIZE':'Employment_Size','NUMBER OF FIRMS':'Number_Firms'},\n",
    "           inplace=True)"
   ]
  },
  {
   "cell_type": "code",
   "execution_count": 28,
   "metadata": {},
   "outputs": [
    {
     "data": {
      "text/plain": [
       "Index(['Uni_code', 'FIPS STATE   CODE', 'State', 'FIPS COUNTY   CODE ',\n",
       "       'County', 'Employment_Size', 'Number_Firms', 'NUMBER OF ESTABLISHMENTS',\n",
       "       'EMPLOYMENT', 'EMPLOYMENT RANGE FLAG', 'EMPLOYMENT NOISE FLAG',\n",
       "       'ANNUAL PAYROLL ($1,000)', 'ANNUAL PAYROLL NOISE FLAG'],\n",
       "      dtype='object')"
      ]
     },
     "execution_count": 28,
     "metadata": {},
     "output_type": "execute_result"
    }
   ],
   "source": [
    "comp.columns"
   ]
  },
  {
   "cell_type": "code",
   "execution_count": 26,
   "metadata": {
    "collapsed": true
   },
   "outputs": [],
   "source": [
    "from pandasql import sqldf\n",
    "pysqldf = lambda q: sqldf(q, globals())"
   ]
  },
  {
   "cell_type": "code",
   "execution_count": 34,
   "metadata": {},
   "outputs": [],
   "source": [
    "q='''\n",
    "Select Uni_code, State, County, \n",
    "sum(CASE when Employment_Size = '02:  <20' then Number_Firms else 0 end ) as Firms_20,\n",
    "sum(CASE when Employment_Size = '03:  20-99' then Number_Firms else 0 end ) as Firms_20_99,\n",
    "sum(CASE when Employment_Size = '04:  100-499' then Number_Firms else 0 end ) as Firms_100_499,\n",
    "sum(CASE when Employment_Size = '05:  500+' then Number_Firms else 0 end ) as Firms_500\n",
    "from comp\n",
    "group by Uni_code;\n",
    "'''\n",
    "\n",
    "company_data = pysqldf(q)"
   ]
  },
  {
   "cell_type": "code",
   "execution_count": 35,
   "metadata": {},
   "outputs": [
    {
     "data": {
      "text/html": [
       "<div>\n",
       "<style>\n",
       "    .dataframe thead tr:only-child th {\n",
       "        text-align: right;\n",
       "    }\n",
       "\n",
       "    .dataframe thead th {\n",
       "        text-align: left;\n",
       "    }\n",
       "\n",
       "    .dataframe tbody tr th {\n",
       "        vertical-align: top;\n",
       "    }\n",
       "</style>\n",
       "<table border=\"1\" class=\"dataframe\">\n",
       "  <thead>\n",
       "    <tr style=\"text-align: right;\">\n",
       "      <th></th>\n",
       "      <th>Uni_code</th>\n",
       "      <th>State</th>\n",
       "      <th>County</th>\n",
       "      <th>Firms_20</th>\n",
       "      <th>Firms_20_99</th>\n",
       "      <th>Firms_100_499</th>\n",
       "      <th>Firms_500</th>\n",
       "    </tr>\n",
       "  </thead>\n",
       "  <tbody>\n",
       "    <tr>\n",
       "      <th>0</th>\n",
       "      <td>11</td>\n",
       "      <td>Alabama</td>\n",
       "      <td>Autauga</td>\n",
       "      <td>526</td>\n",
       "      <td>75</td>\n",
       "      <td>35</td>\n",
       "      <td>152</td>\n",
       "    </tr>\n",
       "    <tr>\n",
       "      <th>1</th>\n",
       "      <td>13</td>\n",
       "      <td>Alabama</td>\n",
       "      <td>Baldwin</td>\n",
       "      <td>3476</td>\n",
       "      <td>432</td>\n",
       "      <td>127</td>\n",
       "      <td>396</td>\n",
       "    </tr>\n",
       "    <tr>\n",
       "      <th>2</th>\n",
       "      <td>15</td>\n",
       "      <td>Alabama</td>\n",
       "      <td>Barbour</td>\n",
       "      <td>295</td>\n",
       "      <td>20</td>\n",
       "      <td>21</td>\n",
       "      <td>72</td>\n",
       "    </tr>\n",
       "    <tr>\n",
       "      <th>3</th>\n",
       "      <td>17</td>\n",
       "      <td>Alabama</td>\n",
       "      <td>Bibb</td>\n",
       "      <td>184</td>\n",
       "      <td>31</td>\n",
       "      <td>17</td>\n",
       "      <td>31</td>\n",
       "    </tr>\n",
       "    <tr>\n",
       "      <th>4</th>\n",
       "      <td>19</td>\n",
       "      <td>Alabama</td>\n",
       "      <td>Blount</td>\n",
       "      <td>487</td>\n",
       "      <td>48</td>\n",
       "      <td>20</td>\n",
       "      <td>62</td>\n",
       "    </tr>\n",
       "  </tbody>\n",
       "</table>\n",
       "</div>"
      ],
      "text/plain": [
       "   Uni_code    State   County  Firms_20  Firms_20_99  Firms_100_499  Firms_500\n",
       "0        11  Alabama  Autauga       526           75             35        152\n",
       "1        13  Alabama  Baldwin      3476          432            127        396\n",
       "2        15  Alabama  Barbour       295           20             21         72\n",
       "3        17  Alabama     Bibb       184           31             17         31\n",
       "4        19  Alabama   Blount       487           48             20         62"
      ]
     },
     "execution_count": 35,
     "metadata": {},
     "output_type": "execute_result"
    }
   ],
   "source": [
    "company_data.head()"
   ]
  },
  {
   "cell_type": "code",
   "execution_count": 36,
   "metadata": {
    "collapsed": true
   },
   "outputs": [],
   "source": [
    "donate = pd.read_excel(\"D:/UTD_JSOM/Spring 2018/Practicum/Market Analysis/donations/donations_company_2015.xlsx\",\n",
    "                    sheetname='donations')"
   ]
  },
  {
   "cell_type": "code",
   "execution_count": 38,
   "metadata": {},
   "outputs": [],
   "source": [
    "donate = donate[np.isfinite(donate['cbsa_code'])]"
   ]
  },
  {
   "cell_type": "code",
   "execution_count": 41,
   "metadata": {},
   "outputs": [],
   "source": [
    "q = '''\n",
    "Select d.*,c.* from donate as d \n",
    "inner join company_data as c \n",
    "on d.Uniq_state_countyfips = c.Uni_code;\n",
    "'''\n",
    "\n",
    "donate_company = pysqldf(q)"
   ]
  },
  {
   "cell_type": "code",
   "execution_count": 198,
   "metadata": {},
   "outputs": [],
   "source": [
    "# Considering the areas in cbsa where the population is max.\n",
    "pop = donate_company.iloc[:,[2,5,6]]\n",
    "\n",
    "q = '''\n",
    "select cbsa_code, Uniq_state_countyfips, max(cy_pop_2015) as population\n",
    "from pop\n",
    "group by cbsa_code;\n",
    "'''\n",
    "\n",
    "pop_max = pysqldf(q)"
   ]
  },
  {
   "cell_type": "markdown",
   "metadata": {},
   "source": [
    "### Combining the donations data with the total number of company on fips."
   ]
  },
  {
   "cell_type": "code",
   "execution_count": 190,
   "metadata": {},
   "outputs": [],
   "source": [
    "donate_company_final = pop_max.set_index('Uniq_state_countyfips').join(donate_company.set_index('Uniq_state_countyfips'),how='inner',lsuffix = \"_\")"
   ]
  },
  {
   "cell_type": "markdown",
   "metadata": {},
   "source": [
    "### Combining the merged data of donations and number of company with the number of hospitals based on cbsa code "
   ]
  },
  {
   "cell_type": "code",
   "execution_count": 201,
   "metadata": {
    "collapsed": true
   },
   "outputs": [],
   "source": [
    "hospitals = pd.read_csv(\"D:/UTD_JSOM/Spring 2018/Practicum/Market Analysis/hospital_count.csv\")"
   ]
  },
  {
   "cell_type": "code",
   "execution_count": 207,
   "metadata": {},
   "outputs": [],
   "source": [
    "donate_company_final = donate_company_final.set_index(['cbsa_code'])"
   ]
  },
  {
   "cell_type": "code",
   "execution_count": 208,
   "metadata": {
    "collapsed": true
   },
   "outputs": [],
   "source": [
    "donate_company_hospitals = donate_company_final.join(hospitals.set_index('CBSA_CODE'),\n",
    "                                                     how='inner',lsuffix = \"_\")"
   ]
  },
  {
   "cell_type": "code",
   "execution_count": 213,
   "metadata": {},
   "outputs": [],
   "source": [
    "donate_company_hospitals.rename(columns={'Provider ID': 'Number_Hospitals'},inplace=True)"
   ]
  },
  {
   "cell_type": "code",
   "execution_count": 214,
   "metadata": {
    "collapsed": true
   },
   "outputs": [],
   "source": [
    "donate_company_hospitals.drop(['cbsa_code_'],axis=1,inplace=True)"
   ]
  },
  {
   "cell_type": "code",
   "execution_count": 216,
   "metadata": {},
   "outputs": [],
   "source": [
    "donate_company_hospitals = donate_company_hospitals.reset_index()"
   ]
  },
  {
   "cell_type": "code",
   "execution_count": 217,
   "metadata": {
    "collapsed": true
   },
   "outputs": [],
   "source": [
    "### Exporting the file to local directory\n",
    "\n",
    "donate_company_hospitals.to_csv('D:/UTD_JSOM/Spring 2018/Practicum/Market Analysis/donation_company_hos2015.csv')"
   ]
  }
 ],
 "metadata": {
  "kernelspec": {
   "display_name": "Python 3",
   "language": "python",
   "name": "python3"
  },
  "language_info": {
   "codemirror_mode": {
    "name": "ipython",
    "version": 3
   },
   "file_extension": ".py",
   "mimetype": "text/x-python",
   "name": "python",
   "nbconvert_exporter": "python",
   "pygments_lexer": "ipython3",
   "version": "3.6.2"
  }
 },
 "nbformat": 4,
 "nbformat_minor": 2
}
