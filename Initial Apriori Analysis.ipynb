{
 "cells": [
  {
   "cell_type": "code",
   "execution_count": 1,
   "metadata": {
    "collapsed": true
   },
   "outputs": [],
   "source": [
    "import numpy as np\n",
    "import pandas as pd"
   ]
  },
  {
   "cell_type": "code",
   "execution_count": 2,
   "metadata": {},
   "outputs": [
    {
     "name": "stderr",
     "output_type": "stream",
     "text": [
      "D:\\Anaconda3\\lib\\site-packages\\IPython\\core\\interactiveshell.py:2698: DtypeWarning: Columns (0,1,2,12,17,20,28,29) have mixed types. Specify dtype option on import or set low_memory=False.\n",
      "  interactivity=interactivity, compiler=compiler, result=result)\n"
     ]
    },
    {
     "data": {
      "text/plain": [
       "Index(['City', 'Company_Goal', 'Company_Name', 'Event_Month', 'Event_Date',\n",
       "       'Event_Year', 'Event_Year.1', 'Fundraising_Goal', 'Name', 'State1',\n",
       "       'Participant_Id', 'State', 'Street', 'Team_Average', 'Team_Captain',\n",
       "       'Team_Count', 'Team_Id', 'Team_Member_Goal', 'Team_Name',\n",
       "       'Team_Total_Gifts', 'Zip', 'Gifts_Count', 'Registration_Gift',\n",
       "       'Participant_Gifts', 'Personal_Gift', 'Total_Gifts', 'MATCH_CODE',\n",
       "       'TAP_LEVEL', 'TAP_DESC', 'TAP_LIFED', 'MEDAGE_CY', 'DIVINDX_CY',\n",
       "       'MEDHINC_CY', 'MEDDI_CY', 'MEDNW_CY'],\n",
       "      dtype='object')"
      ]
     },
     "execution_count": 2,
     "metadata": {},
     "output_type": "execute_result"
    }
   ],
   "source": [
    "# Importing the data\n",
    "data = pd.read_csv(\"D:/UTD_JSOM/Spring 2018/Practicum/Top Walker/LuminateDataExport_UTDP2_011818.csv\",header=0)\n",
    "data.columns"
   ]
  },
  {
   "cell_type": "code",
   "execution_count": 3,
   "metadata": {},
   "outputs": [
    {
     "data": {
      "text/plain": [
       "City                  18566\n",
       "Company_Goal         196611\n",
       "Company_Name         196611\n",
       "Event_Month               2\n",
       "Event_Date                2\n",
       "Event_Year                2\n",
       "Event_Year.1              2\n",
       "Fundraising_Goal          2\n",
       "Name                      2\n",
       "State1                36082\n",
       "Participant_Id            2\n",
       "State                   858\n",
       "Street                18566\n",
       "Team_Average              2\n",
       "Team_Captain              2\n",
       "Team_Count                2\n",
       "Team_Id                   2\n",
       "Team_Member_Goal       2940\n",
       "Team_Name              2940\n",
       "Team_Total_Gifts          2\n",
       "Zip                   18566\n",
       "Gifts_Count               2\n",
       "Registration_Gift         2\n",
       "Participant_Gifts         2\n",
       "Personal_Gift             2\n",
       "Total_Gifts               2\n",
       "MATCH_CODE                2\n",
       "TAP_LEVEL                 2\n",
       "TAP_DESC              20565\n",
       "TAP_LIFED             21003\n",
       "MEDAGE_CY                 2\n",
       "DIVINDX_CY                2\n",
       "MEDHINC_CY                2\n",
       "MEDDI_CY                  2\n",
       "MEDNW_CY                  2\n",
       "dtype: int64"
      ]
     },
     "execution_count": 3,
     "metadata": {},
     "output_type": "execute_result"
    }
   ],
   "source": [
    "data.isnull().sum()"
   ]
  },
  {
   "cell_type": "code",
   "execution_count": 6,
   "metadata": {},
   "outputs": [],
   "source": [
    "from pandasql import *\n",
    "import pandas as pd\n"
   ]
  },
  {
   "cell_type": "code",
   "execution_count": 7,
   "metadata": {
    "collapsed": true
   },
   "outputs": [],
   "source": [
    "#removing the missing values\n",
    "pysqldf = lambda q: sqldf(q, globals())\n",
    "\n",
    "q = '''\n",
    "select * from data \n",
    "where TAP_LIFED not null;\n",
    "'''\n",
    "\n",
    "data1 = pysqldf(q)"
   ]
  },
  {
   "cell_type": "code",
   "execution_count": 9,
   "metadata": {
    "collapsed": true
   },
   "outputs": [
    {
     "data": {
      "text/plain": [
       "City                      0\n",
       "Company_Goal         175729\n",
       "Company_Name         175729\n",
       "Event_Month               0\n",
       "Event_Date                0\n",
       "Event_Year                0\n",
       "Event_Year.1              0\n",
       "Fundraising_Goal          0\n",
       "Name                      0\n",
       "State1                32924\n",
       "Participant_Id            0\n",
       "State                     0\n",
       "Street                    0\n",
       "Team_Average              0\n",
       "Team_Captain              0\n",
       "Team_Count                0\n",
       "Team_Id                   0\n",
       "Team_Member_Goal       2383\n",
       "Team_Name              2383\n",
       "Team_Total_Gifts          0\n",
       "Zip                       0\n",
       "Gifts_Count               0\n",
       "Registration_Gift         0\n",
       "Participant_Gifts         0\n",
       "Personal_Gift             0\n",
       "Total_Gifts               0\n",
       "MATCH_CODE                0\n",
       "TAP_LEVEL                 0\n",
       "TAP_DESC                  0\n",
       "TAP_LIFED                 0\n",
       "MEDAGE_CY                 0\n",
       "DIVINDX_CY                0\n",
       "MEDHINC_CY                0\n",
       "MEDDI_CY                  0\n",
       "MEDNW_CY                  0\n",
       "dtype: int64"
      ]
     },
     "execution_count": 9,
     "metadata": {},
     "output_type": "execute_result"
    }
   ],
   "source": [
    "#Finding the total missing values.\n",
    "data1.isnull().sum()"
   ]
  },
  {
   "cell_type": "code",
   "execution_count": 138,
   "metadata": {},
   "outputs": [],
   "source": [
    "# Dropping the insignificant variables \n",
    "aha = data1.drop(['City', 'Company_Goal', 'Company_Name', 'Event_Month', 'Event_Date',\n",
    "       'Event_Year', 'Event_Year.1', 'State1',\n",
    "       'Participant_Id', 'State', 'Street', 'Team_Id', 'Team_Name'],axis=1)"
   ]
  },
  {
   "cell_type": "code",
   "execution_count": 139,
   "metadata": {},
   "outputs": [
    {
     "data": {
      "text/plain": [
       "Fundraising_Goal        0\n",
       "Name                    0\n",
       "Team_Average            0\n",
       "Team_Captain            0\n",
       "Team_Count              0\n",
       "Team_Member_Goal     2383\n",
       "Team_Total_Gifts        0\n",
       "Zip                     0\n",
       "Gifts_Count             0\n",
       "Registration_Gift       0\n",
       "Participant_Gifts       0\n",
       "Personal_Gift           0\n",
       "Total_Gifts             0\n",
       "MATCH_CODE              0\n",
       "TAP_LEVEL               0\n",
       "TAP_DESC                0\n",
       "TAP_LIFED               0\n",
       "MEDAGE_CY               0\n",
       "DIVINDX_CY              0\n",
       "MEDHINC_CY              0\n",
       "MEDDI_CY                0\n",
       "MEDNW_CY                0\n",
       "dtype: int64"
      ]
     },
     "execution_count": 139,
     "metadata": {},
     "output_type": "execute_result"
    }
   ],
   "source": [
    "aha.isnull().sum()"
   ]
  },
  {
   "cell_type": "code",
   "execution_count": 15,
   "metadata": {},
   "outputs": [
    {
     "data": {
      "image/png": "[encoded data removed]",
      "text/plain": [
       "<matplotlib.figure.Figure at 0x2023175d518>"
      ]
     },
     "metadata": {},
     "output_type": "display_data"
    }
   ],
   "source": [
    "# Finding the correlation between the variables.\n",
    "\n",
    "import seaborn as sns\n",
    "import matplotlib.pyplot as plt\n",
    "\n",
    "\n",
    "corr = aha.corr()\n",
    "\n",
    "# Set up the matplotlib figure\n",
    "f, ax = plt.subplots(figsize=(11, 9))\n",
    "\n",
    "# Generate a custom diverging colormap\n",
    "cmap = sns.diverging_palette(220, 10, as_cmap=True)\n",
    "\n",
    "# Draw the heatmap with the correct aspect ratio\n",
    "sns.heatmap(corr, cmap=cmap, vmax=.3, center=0,\n",
    "            square=True, linewidths=.5, cbar_kws={\"shrink\": .5})\n",
    "plt.show()"
   ]
  },
  {
   "cell_type": "code",
   "execution_count": 140,
   "metadata": {},
   "outputs": [],
   "source": [
    "# Imputing the missing value with '0'.\n",
    "aha['Team_Member_Goal'].fillna(0,inplace=True)"
   ]
  },
  {
   "cell_type": "code",
   "execution_count": 141,
   "metadata": {},
   "outputs": [
    {
     "data": {
      "text/plain": [
       "dtype('O')"
      ]
     },
     "execution_count": 141,
     "metadata": {},
     "output_type": "execute_result"
    }
   ],
   "source": [
    "# Finding the data type of the variable.\n",
    "aha['Team_Member_Goal'].dtype"
   ]
  },
  {
   "cell_type": "code",
   "execution_count": 142,
   "metadata": {},
   "outputs": [
    {
     "data": {
      "text/plain": [
       "dtype('float64')"
      ]
     },
     "execution_count": 142,
     "metadata": {},
     "output_type": "execute_result"
    }
   ],
   "source": [
    "# Replacing the string value to numeric value \n",
    "aha['Team_Member_Goal'] = aha['Team_Member_Goal'].replace(to_replace='1,000',value=1000)\n",
    "aha['Team_Member_Goal'] = aha['Team_Member_Goal'].replace(to_replace='3,000',value=3000)\n",
    "aha['Team_Member_Goal'] = pd.to_numeric(aha['Team_Member_Goal'])\n",
    "aha['Team_Member_Goal'].dtype"
   ]
  },
  {
   "cell_type": "code",
   "execution_count": 143,
   "metadata": {},
   "outputs": [],
   "source": [
    "#aha['Name'] = aha['Name'].replace(to_replace=['^Heart.*'],value=['Heart Walk'],regex=True)"
   ]
  },
  {
   "cell_type": "code",
   "execution_count": 144,
   "metadata": {},
   "outputs": [],
   "source": [
    "#aha['Name'] = aha['Name'].replace(['.*(?=HW|Heart).*'],['Heart Walk'],regex=True)"
   ]
  },
  {
   "cell_type": "code",
   "execution_count": 145,
   "metadata": {},
   "outputs": [],
   "source": [
    "# Replacing the string value to numeric value \n",
    "\n",
    "obj = ['Total_Gifts','Fundraising_Goal','Team_Average','Team_Count','Team_Total_Gifts','Participant_Gifts','Personal_Gift']\n",
    "\n",
    "for i in obj:\n",
    "    aha[i] = aha[i].replace([','],\"\",regex=True)\n",
    "    aha[i] = pd.to_numeric(aha[i])\n",
    "\n"
   ]
  },
  {
   "cell_type": "code",
   "execution_count": 148,
   "metadata": {},
   "outputs": [],
   "source": [
    "# Creating a Top Walker Indicator\n",
    "q = '''\n",
    "select *,case when Total_Gifts < 1000 then 'NTW'\n",
    "              else 'TW' end as Walker_Ind\n",
    "              from aha;\n",
    "'''\n",
    "\n",
    "aha_ind = pysqldf(q)"
   ]
  },
  {
   "cell_type": "code",
   "execution_count": 196,
   "metadata": {},
   "outputs": [
    {
     "data": {
      "text/html": [
       "<div>\n",
       "<style>\n",
       "    .dataframe thead tr:only-child th {\n",
       "        text-align: right;\n",
       "    }\n",
       "\n",
       "    .dataframe thead th {\n",
       "        text-align: left;\n",
       "    }\n",
       "\n",
       "    .dataframe tbody tr th {\n",
       "        vertical-align: top;\n",
       "    }\n",
       "</style>\n",
       "<table border=\"1\" class=\"dataframe\">\n",
       "  <thead>\n",
       "    <tr style=\"text-align: right;\">\n",
       "      <th></th>\n",
       "      <th>Walker_Ind</th>\n",
       "      <th>Count</th>\n",
       "    </tr>\n",
       "  </thead>\n",
       "  <tbody>\n",
       "    <tr>\n",
       "      <th>0</th>\n",
       "      <td>NTW</td>\n",
       "      <td>161227</td>\n",
       "    </tr>\n",
       "    <tr>\n",
       "      <th>1</th>\n",
       "      <td>TW</td>\n",
       "      <td>14651</td>\n",
       "    </tr>\n",
       "  </tbody>\n",
       "</table>\n",
       "</div>"
      ],
      "text/plain": [
       "  Walker_Ind   Count\n",
       "0        NTW  161227\n",
       "1         TW   14651"
      ]
     },
     "execution_count": 196,
     "metadata": {},
     "output_type": "execute_result"
    }
   ],
   "source": [
    "q = '''\n",
    "select Walker_Ind, count(Walker_Ind) as Count\n",
    "from aha_ind\n",
    "group by Walker_Ind;\n",
    "'''\n",
    "apriori_stats = pysqldf(q)\n",
    "apriori_stats"
   ]
  },
  {
   "cell_type": "code",
   "execution_count": 200,
   "metadata": {},
   "outputs": [
    {
     "name": "stdout",
     "output_type": "stream",
     "text": [
      "The apriori accuracy :  91.6697938344\n"
     ]
    }
   ],
   "source": [
    "apriori_stats_acc = apriori_stats.iloc[0,1]/apriori_stats['Count'].sum()\n",
    "print(\"The apriori accuracy : \",apriori_stats_acc*100)"
   ]
  },
  {
   "cell_type": "code",
   "execution_count": 216,
   "metadata": {},
   "outputs": [
    {
     "data": {
      "text/plain": [
       "(175878, 22)"
      ]
     },
     "execution_count": 216,
     "metadata": {},
     "output_type": "execute_result"
    }
   ],
   "source": [
    "col = pd.DataFrame(aha_ind.dtypes)\n",
    "col.reset_index()\n",
    "aha.shape"
   ]
  },
  {
   "cell_type": "code",
   "execution_count": 162,
   "metadata": {
    "collapsed": true
   },
   "outputs": [],
   "source": [
    "# Changing the categorical variable to numeric \n",
    "\n",
    "from sklearn.preprocessing import LabelEncoder\n",
    "\n",
    "categorical = ['Team_Captain','Registration_Gift','TAP_LIFED']\n",
    "\n",
    "for i in categorical:\n",
    "    le = LabelEncoder()\n",
    "    aha_ind[i] = le.fit_transform(aha_ind[i]) + 1"
   ]
  },
  {
   "cell_type": "code",
   "execution_count": 164,
   "metadata": {
    "collapsed": true
   },
   "outputs": [],
   "source": [
    "# Creating train and test data \n",
    "from sklearn.model_selection import train_test_split\n",
    "\n",
    "aha_ind_train = aha_ind.iloc[:,[0,2,3,4,5,8,9,10,11,16,17,18,19,20,21]]\n",
    "aha_ind_test = aha_ind.iloc[:,22]\n",
    "aha_train_x , aha_test_x , aha_train_y , aha_test_y = train_test_split(aha_ind_train,aha_ind_test,test_size=0.33,\n",
    "                                                                      random_state=100)"
   ]
  },
  {
   "cell_type": "code",
   "execution_count": 166,
   "metadata": {},
   "outputs": [
    {
     "name": "stdout",
     "output_type": "stream",
     "text": [
      "The accuracy at depth  2 :  0.991523087526\n",
      "The accuracy at depth  3 :  0.993917987595\n",
      "The accuracy at depth  4 :  0.995830461751\n",
      "The accuracy at depth  5 :  0.997105444521\n",
      "The accuracy at depth  6 :  0.99877670572\n",
      "The accuracy at depth  7 :  0.999207443143\n",
      "The accuracy at depth  8 :  0.999328049621\n",
      "The accuracy at depth  9 :  0.999465885596\n"
     ]
    }
   ],
   "source": [
    "# Creating a Decision Tree Classifier\n",
    "from sklearn.tree import DecisionTreeClassifier\n",
    "from sklearn.metrics import accuracy_score\n",
    "\n",
    "for i in np.arange(2,10,1):\n",
    "    tree_clf = DecisionTreeClassifier(max_depth=i)\n",
    "    tree_clf.fit(aha_train_x,aha_train_y)\n",
    "    pred = tree_clf.predict(aha_test_x)\n",
    "    acc = accuracy_score(aha_test_y,pred)\n",
    "    print(\"The accuracy at depth \",i,\": \",acc)"
   ]
  },
  {
   "cell_type": "code",
   "execution_count": 171,
   "metadata": {},
   "outputs": [],
   "source": [
    "# Checking the importance of the features \n",
    "col = np.array(aha_ind_train.columns)\n",
    "imp = np.array((tree_clf.feature_importances_)*100000)\n",
    "imp_feature = np.stack((col,imp),axis=1)\n",
    "imp_feature"
   ]
  },
  {
   "cell_type": "code",
   "execution_count": 182,
   "metadata": {},
   "outputs": [
    {
     "data": {
      "text/plain": [
       "array([[53216,    18],\n",
       "       [   13,  4793]], dtype=int64)"
      ]
     },
     "execution_count": 182,
     "metadata": {},
     "output_type": "execute_result"
    }
   ],
   "source": [
    "# Creating Confusion Matrix\n",
    "\n",
    "from sklearn.metrics import confusion_matrix\n",
    "\n",
    "con = confusion_matrix(aha_test_y,pred)\n",
    "con"
   ]
  },
  {
   "cell_type": "code",
   "execution_count": 184,
   "metadata": {},
   "outputs": [
    {
     "data": {
      "text/plain": [
       "array([ 0.99906661,  0.99847263,  0.99847263,  0.9995757 ,  0.99898167,\n",
       "        0.99932106,  0.99881185,  0.99855724,  0.99855724,  0.99872698])"
      ]
     },
     "execution_count": 184,
     "metadata": {},
     "output_type": "execute_result"
    }
   ],
   "source": [
    "from sklearn.model_selection import cross_val_score\n",
    "\n",
    "cross_val_score(DecisionTreeClassifier(max_depth=6),aha_train_x,aha_train_y, cv=10,scoring='accuracy')"
   ]
  },
  {
   "cell_type": "markdown",
   "metadata": {},
   "source": [
    "### As the accuracy is too high, therefore we can see that there is some problem. Actually we have included highly correlated variable i.e participant gifts and personal gifts. Hence in the further model we have removed these variables."
   ]
  },
  {
   "cell_type": "code",
   "execution_count": 218,
   "metadata": {},
   "outputs": [
    {
     "name": "stdout",
     "output_type": "stream",
     "text": [
      "The accuracy at depth  2 :  0.94605444521\n",
      "The accuracy at depth  3 :  0.95049965541\n",
      "The accuracy at depth  4 :  0.953308063405\n",
      "The accuracy at depth  5 :  0.954651964163\n",
      "The accuracy at depth  6 :  0.956977946244\n",
      "The accuracy at depth  7 :  0.957994486561\n",
      "The accuracy at depth  8 :  0.958873190903\n",
      "The accuracy at depth  9 :  0.959131633356\n",
      "The accuracy of training :  0.96434087476\n"
     ]
    }
   ],
   "source": [
    "aha_ind_train = aha_ind.iloc[:,[0,2,3,4,5,8,9,16,17,18,19,20,21]]\n",
    "aha_ind_test = aha_ind.iloc[:,22]\n",
    "\n",
    "from sklearn.model_selection import train_test_split\n",
    "\n",
    "aha_train_x , aha_test_x , aha_train_y , aha_test_y = train_test_split(aha_ind_train,aha_ind_test,test_size=0.33,\n",
    "                                                                      random_state=101)\n",
    "\n",
    "from sklearn.tree import DecisionTreeClassifier\n",
    "from sklearn.metrics import accuracy_score\n",
    "\n",
    "for i in np.arange(2,10,1):\n",
    "    tree_clf = DecisionTreeClassifier(max_depth=i)\n",
    "    tree_clf.fit(aha_train_x,aha_train_y)\n",
    "    pred = tree_clf.predict(aha_test_x)\n",
    "    acc = accuracy_score(aha_test_y,pred)\n",
    "    print(\"The accuracy at depth \",i,\": \",acc)\n",
    "    \n",
    "train_pred = tree_clf.predict(aha_train_x)\n",
    "train_acc = accuracy_score(aha_train_y,train_pred)\n",
    "print(\"The accuracy of training : \",train_acc)"
   ]
  },
  {
   "cell_type": "code",
   "execution_count": null,
   "metadata": {
    "collapsed": true
   },
   "outputs": [],
   "source": [
    "from sklearn.metrics import "
   ]
  },
  {
   "cell_type": "code",
   "execution_count": null,
   "metadata": {
    "collapsed": true
   },
   "outputs": [],
   "source": [
    "# Checking the feature importance\n",
    "col = np.array(aha_ind_train.columns)\n",
    "imp = np.array((tree_clf.feature_importances_)*100000)\n",
    "imp_feature = np.stack((col,imp),axis=1)\n",
    "imp_feature"
   ]
  },
  {
   "cell_type": "code",
   "execution_count": 191,
   "metadata": {},
   "outputs": [
    {
     "name": "stderr",
     "output_type": "stream",
     "text": [
      "D:\\Anaconda3\\lib\\site-packages\\sklearn\\linear_model\\stochastic_gradient.py:84: FutureWarning: max_iter and tol parameters have been added in <class 'sklearn.linear_model.stochastic_gradient.SGDClassifier'> in 0.19. If both are left unset, they default to max_iter=5 and tol=None. If tol is not None, max_iter defaults to max_iter=1000. From 0.21, default max_iter will be 1000, and default tol will be 1e-3.\n",
      "  \"and default tol will be 1e-3.\" % type(self), FutureWarning)\n"
     ]
    },
    {
     "name": "stdout",
     "output_type": "stream",
     "text": [
      "0.926636802205\n"
     ]
    }
   ],
   "source": [
    "# SGD Classifier\n",
    "aha_ind_train = aha_ind.iloc[:,[0,2,3,4,5,8,9,16,17,18,19,20,21]]\n",
    "aha_ind_test = aha_ind.iloc[:,22]\n",
    "\n",
    "from sklearn.model_selection import train_test_split\n",
    "\n",
    "aha_train_x , aha_test_x , aha_train_y , aha_test_y = train_test_split(aha_ind_train,aha_ind_test,test_size=0.33,\n",
    "                                                                      random_state=101)\n",
    "\n",
    "from sklearn.tree import DecisionTreeClassifier\n",
    "from sklearn.metrics import accuracy_score\n",
    "from sklearn.linear_model import SGDClassifier\n",
    "\n",
    "sgd_clf = SGDClassifier(random_state=111)\n",
    "sgd_clf.fit(aha_train_x,aha_train_y)\n",
    "pred = sgd_clf.predict(aha_test_x)\n",
    "print(accuracy_score(aha_test_y,pred))"
   ]
  },
  {
   "cell_type": "code",
   "execution_count": 193,
   "metadata": {},
   "outputs": [
    {
     "name": "stdout",
     "output_type": "stream",
     "text": [
      "The accuracy at depth  2 :  0.9294452102\n",
      "The accuracy at depth  3 :  0.94133356306\n",
      "The accuracy at depth  4 :  0.948483804273\n",
      "The accuracy at depth  5 :  0.951240523777\n",
      "The accuracy at depth  6 :  0.956581667815\n",
      "The accuracy at depth  7 :  0.957718814611\n",
      "The accuracy at depth  8 :  0.959527911785\n",
      "The accuracy at depth  9 :  0.959045485872\n"
     ]
    }
   ],
   "source": [
    "# Created Random Forest Classifier\n",
    "from sklearn.ensemble import RandomForestClassifier \n",
    "from sklearn.metrics import accuracy_score\n",
    "\n",
    "\n",
    "for i in np.arange(2,10,1):\n",
    "    ran_clf = RandomForestClassifier(max_depth=i)\n",
    "    ran_clf.fit(aha_train_x,aha_train_y)\n",
    "    pred = ran_clf.predict(aha_test_x)\n",
    "    acc = accuracy_score(aha_test_y,pred)\n",
    "    print(\"The accuracy at depth \",i,\": \",acc)"
   ]
  },
  {
   "cell_type": "markdown",
   "metadata": {},
   "source": [
    "### Treating the class imbalances with SMOTE"
   ]
  },
  {
   "cell_type": "code",
   "execution_count": 219,
   "metadata": {},
   "outputs": [
    {
     "name": "stdout",
     "output_type": "stream",
     "text": [
      "The accuracy in training set :  0.931074865493\n",
      "The geometric mean in training set :  0.872270738933\n",
      "The accuracy of test set is 0.9323053066850447\n",
      "The geometric mean of test set is 0.8729174459553775\n"
     ]
    }
   ],
   "source": [
    "\n",
    "from imblearn import over_sampling as os\n",
    "from imblearn import pipeline as pl\n",
    "from imblearn.metrics import (geometric_mean_score,\n",
    "                              make_index_balanced_accuracy)\n",
    "\n",
    "\n",
    "from sklearn.model_selection import train_test_split\n",
    "from sklearn.tree import DecisionTreeClassifier\n",
    "from sklearn.metrics import accuracy_score\n",
    "\n",
    "\n",
    "aha_ind_train = aha_ind.iloc[:,[0,2,3,4,5,8,9,16,17,18,19,20,21]]\n",
    "aha_ind_test = aha_ind.iloc[:,22]\n",
    "\n",
    "RANDOM_STATE = 132\n",
    "\n",
    "aha_train_x , aha_test_x , aha_train_y , aha_test_y = train_test_split(aha_ind_train,aha_ind_test,test_size=0.33,\n",
    "                                                                       random_state=RANDOM_STATE)\n",
    "\n",
    "pipeline = pl.make_pipeline(os.SMOTE(random_state=RANDOM_STATE),\n",
    "                            DecisionTreeClassifier(max_depth=6,random_state=RANDOM_STATE))\n",
    "\n",
    "pipeline.fit(aha_train_x, aha_train_y)\n",
    "\n",
    "pred = pipeline.predict(aha_test_x)\n",
    "\n",
    "# Calculating training accuracy \n",
    "train_pred = pipeline.predict(aha_train_x)\n",
    "print(\"The accuracy in training set : \",accuracy_score(aha_train_y,train_pred))\n",
    "print(\"The geometric mean in training set : \",geometric_mean_score(aha_train_y,train_pred))\n",
    "\n",
    "#Calculating test accuracy\n",
    "\n",
    "print('The accuracy of test set is {}'.format(accuracy_score(\n",
    "    aha_test_y,\n",
    "    pred)))\n",
    "\n",
    "print('The geometric mean of test set is {}'.format(geometric_mean_score(\n",
    "    aha_test_y,\n",
    "    pred)))\n",
    "\n"
   ]
  },
  {
   "cell_type": "code",
   "execution_count": 214,
   "metadata": {},
   "outputs": [],
   "source": [
    "from sklearn.metrics import confusion_matrix\n",
    "\n",
    "cnf = confusion_matrix(aha_test_y,pred)\n",
    "tp,fp,fn,tn = cnf[0,0],cnf[0,1],cnf[1,0],cnf[1,1]"
   ]
  },
  {
   "cell_type": "code",
   "execution_count": 215,
   "metadata": {},
   "outputs": [
    {
     "name": "stdout",
     "output_type": "stream",
     "text": [
      "Recall :  0.981588009705\n",
      "Precision :  0.927112786679\n"
     ]
    },
    {
     "data": {
      "text/plain": [
       "(3944, 2988, 941, 50167)"
      ]
     },
     "execution_count": 215,
     "metadata": {},
     "output_type": "execute_result"
    }
   ],
   "source": [
    "Recall = tp/(tp+fn)\n",
    "\n",
    "Precision = tp/(tp+tn)\n",
    "\n",
    "print(\"Recall : \",Recall)\n",
    "\n",
    "print(\"Precision : \",Precision)\n",
    "\n",
    "tp,fp,fn,tn"
   ]
  },
  {
   "cell_type": "markdown",
   "metadata": {},
   "source": [
    "## Recall is finding correctly NTW in predicted NTW and Precision is finding correctly NTW in actual NTW."
   ]
  }
 ],
 "metadata": {
  "kernelspec": {
   "display_name": "Python 3",
   "language": "python",
   "name": "python3"
  },
  "language_info": {
   "codemirror_mode": {
    "name": "ipython",
    "version": 3
   },
   "file_extension": ".py",
   "mimetype": "text/x-python",
   "name": "python",
   "nbconvert_exporter": "python",
   "pygments_lexer": "ipython3",
   "version": "3.6.2"
  }
 },
 "nbformat": 4,
 "nbformat_minor": 2
}
