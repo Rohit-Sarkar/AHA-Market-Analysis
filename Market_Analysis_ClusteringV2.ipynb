{
 "cells": [
  {
   "cell_type": "code",
   "execution_count": 1,
   "metadata": {
    "collapsed": true
   },
   "outputs": [],
   "source": [
    "import numpy as np\n",
    "import pandas as pd"
   ]
  },
  {
   "cell_type": "code",
   "execution_count": 2,
   "metadata": {
    "collapsed": true
   },
   "outputs": [],
   "source": [
    "data = pd.read_csv('D:/UTD_JSOM/Spring 2018/Practicum/Market Analysis/donations/hag_county_2015-full.csv')"
   ]
  },
  {
   "cell_type": "code",
   "execution_count": 3,
   "metadata": {},
   "outputs": [
    {
     "name": "stdout",
     "output_type": "stream",
     "text": [
      "For n_clusters = 2 The average silhouette_score is : 0.594363720525\n",
      "For n_clusters = 3 The average silhouette_score is : 0.552671052673\n",
      "For n_clusters = 4 The average silhouette_score is : 0.535421371304\n",
      "For n_clusters = 5 The average silhouette_score is : 0.5220659461\n",
      "For n_clusters = 6 The average silhouette_score is : 0.525284595426\n",
      "For n_clusters = 7 The average silhouette_score is : 0.527183828595\n",
      "For n_clusters = 8 The average silhouette_score is : 0.535806380022\n"
     ]
    }
   ],
   "source": [
    "data_x1 = data.iloc[:,[4,6]]\n",
    "\n",
    "X = data_x1.set_index('cbsa_code')\n",
    "\n",
    "X.isnull().values.sum()\n",
    "\n",
    "X = X[np.isfinite(X['cy_gratio'])]\n",
    "\n",
    "from sklearn.preprocessing import StandardScaler\n",
    "from sklearn.cluster import KMeans\n",
    "from sklearn.metrics import silhouette_score\n",
    "\n",
    "scaler = StandardScaler()\n",
    "X_scaled = scaler.fit_transform(X)\n",
    "\n",
    "range_clusters = [2,3,4,5,6,7,8]\n",
    "\n",
    "for n_clusters in range_clusters:\n",
    "    clusterer = KMeans(n_clusters=n_clusters, random_state=10)\n",
    "    cluster_labels = clusterer.fit_predict(X_scaled)\n",
    "    silhouette_avg = silhouette_score(X, cluster_labels)\n",
    "    print(\"For n_clusters =\", n_clusters,\n",
    "          \"The average silhouette_score is :\", silhouette_avg)"
   ]
  },
  {
   "cell_type": "code",
   "execution_count": 4,
   "metadata": {
    "collapsed": true
   },
   "outputs": [],
   "source": [
    "data_x1 = data.iloc[:,[4,6]]\n",
    "X = data_x1.set_index('cbsa_code')\n",
    "X.isnull().values.sum()\n",
    "X = X[np.isfinite(X['cy_gratio'])]\n",
    "\n",
    "from sklearn.preprocessing import StandardScaler\n",
    "\n",
    "scaler = StandardScaler()\n",
    "X_scaled = scaler.fit_transform(X)\n",
    "\n",
    "\n",
    "clust = KMeans(n_clusters=4, random_state = 13, n_jobs=-1)\n",
    "clust.fit_predict(X_scaled)\n",
    "label = clust.labels_\n",
    "series = pd.Series(label)\n"
   ]
  },
  {
   "cell_type": "code",
   "execution_count": 5,
   "metadata": {
    "collapsed": true
   },
   "outputs": [],
   "source": [
    "X = X.reset_index()\n",
    "\n",
    "X_clustered = pd.concat([X,series],axis=1)"
   ]
  },
  {
   "cell_type": "code",
   "execution_count": 6,
   "metadata": {
    "collapsed": true
   },
   "outputs": [],
   "source": [
    "X_clustered.rename(columns={0:'cluster_label'},inplace=True)"
   ]
  },
  {
   "cell_type": "code",
   "execution_count": 7,
   "metadata": {
    "collapsed": true
   },
   "outputs": [],
   "source": [
    "data = data[np.isfinite(data['cbsa_code'])]"
   ]
  },
  {
   "cell_type": "code",
   "execution_count": 8,
   "metadata": {
    "collapsed": true
   },
   "outputs": [],
   "source": [
    "data['cbsa_code'] = data['cbsa_code'].astype('str')\n",
    "data['cy_gratio'] = data['cy_gratio'].astype('str')\n",
    "data['key'] = data['cbsa_code'].map(str) + data['cy_gratio']"
   ]
  },
  {
   "cell_type": "code",
   "execution_count": 9,
   "metadata": {
    "collapsed": true
   },
   "outputs": [],
   "source": [
    "X_clustered['cbsa_code'] = X_clustered['cbsa_code'].astype('str')\n",
    "X_clustered['cy_gratio'] = X_clustered['cy_gratio'].astype('str')\n",
    "X_clustered['key'] = X_clustered['cbsa_code'].map(str) + X_clustered['cy_gratio']"
   ]
  },
  {
   "cell_type": "code",
   "execution_count": 10,
   "metadata": {
    "collapsed": true
   },
   "outputs": [],
   "source": [
    "data = data.set_index('key')\n",
    "X_clustered = X_clustered.set_index('key')\n",
    "data_cl = data.join(X_clustered,lsuffix='_d',rsuffix='_c')"
   ]
  },
  {
   "cell_type": "code",
   "execution_count": 11,
   "metadata": {},
   "outputs": [
    {
     "data": {
      "text/html": [
       "<div>\n",
       "<style>\n",
       "    .dataframe thead tr:only-child th {\n",
       "        text-align: right;\n",
       "    }\n",
       "\n",
       "    .dataframe thead th {\n",
       "        text-align: left;\n",
       "    }\n",
       "\n",
       "    .dataframe tbody tr th {\n",
       "        vertical-align: top;\n",
       "    }\n",
       "</style>\n",
       "<table border=\"1\" class=\"dataframe\">\n",
       "  <thead>\n",
       "    <tr style=\"text-align: right;\">\n",
       "      <th></th>\n",
       "      <th>cy_amt_contributions</th>\n",
       "      <th>cy_avg_giving_by_itemizer</th>\n",
       "      <th>cy_gratio_d</th>\n",
       "      <th>cy_itemized_agi</th>\n",
       "      <th>cy_pop_2015</th>\n",
       "      <th>god</th>\n",
       "      <th>gvsa</th>\n",
       "    </tr>\n",
       "    <tr>\n",
       "      <th>cluster_label</th>\n",
       "      <th></th>\n",
       "      <th></th>\n",
       "      <th></th>\n",
       "      <th></th>\n",
       "      <th></th>\n",
       "      <th></th>\n",
       "      <th></th>\n",
       "    </tr>\n",
       "  </thead>\n",
       "  <tbody>\n",
       "    <tr>\n",
       "      <th>0.0</th>\n",
       "      <td>103988.674772</td>\n",
       "      <td>5.397374</td>\n",
       "      <td>0.036972</td>\n",
       "      <td>2.791705e+06</td>\n",
       "      <td>148342.817629</td>\n",
       "      <td>4347.200674</td>\n",
       "      <td>0.079599</td>\n",
       "    </tr>\n",
       "    <tr>\n",
       "      <th>1.0</th>\n",
       "      <td>87603.690476</td>\n",
       "      <td>11.709386</td>\n",
       "      <td>0.073217</td>\n",
       "      <td>1.074099e+06</td>\n",
       "      <td>72485.571429</td>\n",
       "      <td>507.719957</td>\n",
       "      <td>0.504567</td>\n",
       "    </tr>\n",
       "    <tr>\n",
       "      <th>2.0</th>\n",
       "      <td>70211.139024</td>\n",
       "      <td>7.073881</td>\n",
       "      <td>0.050730</td>\n",
       "      <td>1.417285e+06</td>\n",
       "      <td>91361.041463</td>\n",
       "      <td>2400.992866</td>\n",
       "      <td>0.196058</td>\n",
       "    </tr>\n",
       "    <tr>\n",
       "      <th>3.0</th>\n",
       "      <td>133387.576923</td>\n",
       "      <td>3.760210</td>\n",
       "      <td>0.025186</td>\n",
       "      <td>5.266210e+06</td>\n",
       "      <td>225513.155172</td>\n",
       "      <td>17916.598187</td>\n",
       "      <td>-0.126522</td>\n",
       "    </tr>\n",
       "  </tbody>\n",
       "</table>\n",
       "</div>"
      ],
      "text/plain": [
       "               cy_amt_contributions  cy_avg_giving_by_itemizer  cy_gratio_d  \\\n",
       "cluster_label                                                                 \n",
       "0.0                   103988.674772                   5.397374     0.036972   \n",
       "1.0                    87603.690476                  11.709386     0.073217   \n",
       "2.0                    70211.139024                   7.073881     0.050730   \n",
       "3.0                   133387.576923                   3.760210     0.025186   \n",
       "\n",
       "               cy_itemized_agi    cy_pop_2015           god      gvsa  \n",
       "cluster_label                                                          \n",
       "0.0               2.791705e+06  148342.817629   4347.200674  0.079599  \n",
       "1.0               1.074099e+06   72485.571429    507.719957  0.504567  \n",
       "2.0               1.417285e+06   91361.041463   2400.992866  0.196058  \n",
       "3.0               5.266210e+06  225513.155172  17916.598187 -0.126522  "
      ]
     },
     "execution_count": 11,
     "metadata": {},
     "output_type": "execute_result"
    }
   ],
   "source": [
    "data_cl['cy_gratio_d'] = data_cl['cy_gratio_d'].astype('float64')\n",
    "data_cl.pivot_table(['cy_pop_2015', 'cy_gratio_d',\n",
    "       'cy_avg_giving_by_itemizer', 'gvsa', 'god', 'cy_itemized_agi',\n",
    "       'cy_amt_contributions'],['cluster_label'], aggfunc='mean')"
   ]
  },
  {
   "cell_type": "code",
   "execution_count": 12,
   "metadata": {
    "collapsed": true
   },
   "outputs": [],
   "source": [
    "data_cl.to_csv('D:/UTD_JSOM/Spring 2018/Practicum/Market Analysis/four_cluster.csv')"
   ]
  }
 ],
 "metadata": {
  "kernelspec": {
   "display_name": "Python 3",
   "language": "python",
   "name": "python3"
  },
  "language_info": {
   "codemirror_mode": {
    "name": "ipython",
    "version": 3
   },
   "file_extension": ".py",
   "mimetype": "text/x-python",
   "name": "python",
   "nbconvert_exporter": "python",
   "pygments_lexer": "ipython3",
   "version": "3.6.2"
  }
 },
 "nbformat": 4,
 "nbformat_minor": 2
}
